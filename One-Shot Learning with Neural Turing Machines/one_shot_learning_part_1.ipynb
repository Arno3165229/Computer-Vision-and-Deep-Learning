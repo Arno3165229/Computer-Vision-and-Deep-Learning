{
  "cells": [
    {
      "cell_type": "markdown",
      "metadata": {
        "id": "0ITrZWU9eqzQ"
      },
      "source": [
        "### ChengYang Tsai"
      ]
    },
    {
      "cell_type": "markdown",
      "metadata": {
        "id": "Ep1Ky-nDBZIr"
      },
      "source": [
        "You might need to modify the third line in the code cell below, to make sure you cd to the actual directory which your ipynb file is located in.\n",
        "\n",
        "**Caution**: due to the nature of this project's setup, everytime you want to rerun some code cell below, please click **Runtime -> Restart and run all**; this operation clears the computational graphs and the local variables but allow training and testing data that are already loaded from google drive to stay in the colab runtime space. Please do **not** do the following if you just wish to rerun code: click Runtime -> reset all runtimes, and then click Runtime -> Run all; it will remount your google drive, and remove the training and testing data already loaded in your colab runtime space. **Runtime -> Restart and run all** automatically avoids remounting the drive after the first time you run the notebook file; the loaded data can usually stay in your colab runtime space for many hours.\n",
        "\n",
        "Loading the training and testing data after remounting your google drive takes 30 - 40 minutes."
      ]
    },
    {
      "cell_type": "code",
      "execution_count": 1,
      "metadata": {
        "colab": {
          "base_uri": "https://localhost:8080/"
        },
        "id": "7sWni0FseVUz",
        "outputId": "28751224-a5e4-4e71-a5c0-4a52d3fb338c"
      },
      "outputs": [
        {
          "output_type": "stream",
          "name": "stdout",
          "text": [
            "Mounted at /content/gdrive/\n",
            "/content/gdrive/My Drive/Colab Notebooks/NTM_Student\n"
          ]
        }
      ],
      "source": [
        "from google.colab import drive\n",
        "drive.mount(\"/content/gdrive/\", force_remount=True)\n",
        "%cd gdrive/My Drive/Colab Notebooks/NTM_Student\n",
        "##%cd gdrive/My Drive/Neural_Turing_Machine/NTM_small"
      ]
    },
    {
      "cell_type": "code",
      "execution_count": 2,
      "metadata": {
        "colab": {
          "base_uri": "https://localhost:8080/"
        },
        "id": "R9gdekJg_-xa",
        "outputId": "66d0e63b-47cd-4349-977d-b0cd91301b6d"
      },
      "outputs": [
        {
          "output_type": "stream",
          "name": "stdout",
          "text": [
            "TensorFlow 1.x selected.\n",
            "1.15.2\n"
          ]
        }
      ],
      "source": [
        "%tensorflow_version 1.x\n",
        "from utils import OmniglotDataLoader, one_hot_decode, five_hot_decode\n",
        "import tensorflow as tf\n",
        "import argparse\n",
        "import numpy as np\n",
        "print(tf.__version__)\n"
      ]
    },
    {
      "cell_type": "markdown",
      "metadata": {
        "id": "otNm4yidAQQB"
      },
      "source": [
        "Already implemented, no need to change.\n",
        "\n",
        "This class is part of the training loop."
      ]
    },
    {
      "cell_type": "code",
      "execution_count": 3,
      "metadata": {
        "id": "MZTXPodW_5_i"
      },
      "outputs": [],
      "source": [
        "class NTMOneShotLearningModel():\n",
        "  def __init__(self, model, n_classes, batch_size, seq_length, image_width, image_height,\n",
        "                rnn_size, num_memory_slots, rnn_num_layers, read_head_num, write_head_num, memory_vector_dim, learning_rate):\n",
        "    self.output_dim = n_classes\n",
        "\n",
        "    # Note: the images are flattened to 1D tensors\n",
        "    # The input data structure is of the following form:\n",
        "    # self.x_image[i,j,:] = jth image in the ith sequence (or, episode)\n",
        "    self.x_image = tf.placeholder(dtype=tf.float32, shape=[batch_size, seq_length, image_width * image_height])\n",
        "    # Model's output label is one-hot encoded\n",
        "    # The data structure is of the following form:\n",
        "    # self.x_label[i,j,:] = one-hot label of the jth image in \n",
        "    #             the ith sequence (or, episode)\n",
        "    self.x_label = tf.placeholder(dtype=tf.float32, shape=[batch_size, seq_length, self.output_dim])\n",
        "    # Target label is one-hot encoded\n",
        "    self.y = tf.placeholder(dtype=tf.float32, shape=[batch_size, seq_length, self.output_dim])\n",
        "    \n",
        "    # The dense layer for mapping controller output and retrieved\n",
        "    # memory content to classification labels\n",
        "    self.controller_output_to_ntm_output = tf.keras.layers.Dense(units=self.output_dim, use_bias=True)\n",
        "\n",
        "    if model == 'LSTM':\n",
        "      # Using a LSTM layer to serve as the controller, no memory\n",
        "      def rnn_cell(rnn_size):\n",
        "        return tf.nn.rnn_cell.BasicLSTMCell(rnn_size)\n",
        "      cell = tf.nn.rnn_cell.MultiRNNCell([rnn_cell(rnn_size) for _ in range(rnn_num_layers)])\n",
        "      state = cell.zero_state(batch_size=batch_size, dtype=tf.float32)\n",
        "    \n",
        "    # Initialize the controller model, including wiping its memory\n",
        "    # Also, get the initial state of the MANN model\n",
        "    \n",
        "    self.state_list = [state]\n",
        "    # Setup the NTM's output\n",
        "    self.o = []\n",
        "    \n",
        "    # Now iterate over every sample in the sequence \n",
        "    for t in range(seq_length):\n",
        "      output, state = cell(tf.concat([self.x_image[:, t, :], self.x_label[:, t, :]], axis=1), state)\n",
        "      # Map controller output (with retrieved memory) + current (offseted) label \n",
        "      # to the overall ntm's output with an affine operation\n",
        "      # The output is the classification labels\n",
        "      output = self.controller_output_to_ntm_output(output)\n",
        "      output = tf.nn.softmax(output, axis=1)\n",
        "      self.o.append(output)\n",
        "      self.state_list.append(state)\n",
        "    # post-process the output of the classifier\n",
        "    self.o = tf.stack(self.o, axis=1)\n",
        "    self.state_list.append(state)\n",
        "\n",
        "    eps = 1e-8\n",
        "    # cross entropy, between model output labels and target labels\n",
        "    self.learning_loss = -tf.reduce_mean(  \n",
        "        tf.reduce_sum(self.y * tf.log(self.o + eps), axis=[1, 2])\n",
        "    )\n",
        "    \n",
        "    self.o = tf.reshape(self.o, shape=[batch_size, seq_length, -1])\n",
        "    self.learning_loss_summary = tf.summary.scalar('learning_loss', self.learning_loss)\n",
        "\n",
        "    with tf.variable_scope('optimizer'):\n",
        "      self.optimizer = tf.train.AdamOptimizer(learning_rate=learning_rate)\n",
        "      self.train_op = self.optimizer.minimize(self.learning_loss)"
      ]
    },
    {
      "cell_type": "markdown",
      "metadata": {
        "id": "X_qMlbTWAvg0"
      },
      "source": [
        "The training and testing functions"
      ]
    },
    {
      "cell_type": "code",
      "execution_count": 4,
      "metadata": {
        "id": "Se1yEaxmey6Z"
      },
      "outputs": [],
      "source": [
        "def train(learning_rate, image_width, image_height, n_train_classes, n_test_classes, restore_training, \\\n",
        "         num_epochs, n_classes, batch_size, seq_length, num_memory_slots, augment, save_dir, model_path, tensorboard_dir):\n",
        "  \n",
        "  # We always use one-hot encoding of the labels in this experiment\n",
        "  label_type = \"one_hot\"\n",
        "\n",
        "  # Initialize the model\n",
        "  model = NTMOneShotLearningModel(model=model_path, n_classes=n_classes,\\\n",
        "                    batch_size=batch_size, seq_length=seq_length,\\\n",
        "                    image_width=image_width, image_height=image_height, \\\n",
        "                    rnn_size=rnn_size, num_memory_slots=num_memory_slots,\\\n",
        "                    rnn_num_layers=rnn_num_layers, read_head_num=read_head_num,\\\n",
        "                    write_head_num=write_head_num, memory_vector_dim=memory_vector_dim,\\\n",
        "                    learning_rate=learning_rate)\n",
        "  print(\"Model initialized\")\n",
        "  data_loader = OmniglotDataLoader(\n",
        "      image_size=(image_width, image_height),\n",
        "      n_train_classses=n_train_classes,\n",
        "      n_test_classes=n_test_classes\n",
        "  )\n",
        "  print(\"Data loaded\")\n",
        "  # Note: our training loop is in the tensorflow 1.x style\n",
        "  with tf.Session() as sess:\n",
        "    if restore_training:\n",
        "      saver = tf.train.Saver()\n",
        "      ckpt = tf.train.get_checkpoint_state(save_dir + '/' + model_path)\n",
        "      saver.restore(sess, ckpt.model_checkpoint_path)\n",
        "    else:\n",
        "      saver = tf.train.Saver(tf.global_variables())\n",
        "      tf.global_variables_initializer().run()\n",
        "    train_writer = tf.summary.FileWriter(tensorboard_dir + '/' + model_path, sess.graph)\n",
        "    print(\"1st\\t2nd\\t3rd\\t4th\\t5th\\t6th\\t7th\\t8th\\t9th\\t10th\\tepoch\\tloss\")\n",
        "    for b in range(num_epochs):\n",
        "      # Test the model\n",
        "      if b % 100 == 0:\n",
        "        # Note: the images are flattened to 1D tensors\n",
        "        # The input data structure is of the following form:\n",
        "        # x_image[i,j,:] = jth image in the ith sequence (or, episode)\n",
        "        # And the sequence of 50 images x_image[i,:,:] constitute\n",
        "        # one episode, and each class (out of 5 classes) has around 10\n",
        "        # appearances in this sequence, as seq_length = 50 and \n",
        "        # n_classes = 5, as specified in the code block below\n",
        "        # See the details in utils.py, OmniglotDataLoader class\n",
        "        x_image, x_label, y = data_loader.fetch_batch(n_classes, batch_size, seq_length,\n",
        "                                  type='test',\n",
        "                                  augment=augment,\n",
        "                                  label_type=label_type)\n",
        "        feed_dict = {model.x_image: x_image, model.x_label: x_label, model.y: y}\n",
        "        output, learning_loss = sess.run([model.o, model.learning_loss], feed_dict=feed_dict)\n",
        "        merged_summary = sess.run(model.learning_loss_summary, feed_dict=feed_dict)\n",
        "        train_writer.add_summary(merged_summary, b)\n",
        "        accuracy = test(seq_length, y, output)\n",
        "        for accu in accuracy:\n",
        "          print('%.4f' % accu, end='\\t')\n",
        "        print('%d\\t%.4f' % (b, learning_loss))\n",
        "\n",
        "      # Save model per 2000 epochs\n",
        "      if b%2000==0 and b>0:\n",
        "        saver.save(sess, save_dir + '/' + model_path + '/model.tfmodel', global_step=b)\n",
        "\n",
        "      # Train the model\n",
        "      x_image, x_label, y = data_loader.fetch_batch(n_classes, batch_size, seq_length, \\\n",
        "                                type='train',\n",
        "                                augment=augment,\n",
        "                                label_type=label_type)\n",
        "      feed_dict = {model.x_image: x_image, model.x_label: x_label, model.y: y}\n",
        "      sess.run(model.train_op, feed_dict=feed_dict)\n",
        "      \n",
        "# Fill in this function. You might not need seq_length (the length of an episode)\n",
        "# as an input, depending on your setup \n",
        "# Note: y is the true labels, and of shape (batch_size, seq_length, 5)\n",
        "# output is the network's classification labels\n",
        "def test(seq_length, y, output):\n",
        "  # Fill in\n",
        "  classes = y.shape[2]\n",
        "  ct = np.zeros(10)\n",
        "  I = np.zeros(10)\n",
        "  y = np.argmax(y, axis=-1)\n",
        "  batch = y.shape[0]\n",
        "  output = np.argmax(output, axis=-1)\n",
        "  for i in range(batch):\n",
        "    count = [0 for _ in range(classes)]\n",
        "    for j in range(seq_length):\n",
        "      count[y[i, j]] += 1\n",
        "      if count[y[i, j]] <= 10:\n",
        "        if y[i,j] == output[i,j]:\n",
        "          ct[count[y[i, j]]-1] += 1\n",
        "        I[count[y[i, j]]-1] += 1\n",
        "  accuracy = [ct[i]/I[i]*100 for i in range(10)]\n",
        "  return accuracy # Fill in"
      ]
    },
    {
      "cell_type": "code",
      "execution_count": 5,
      "metadata": {
        "colab": {
          "base_uri": "https://localhost:8080/"
        },
        "id": "VruOInLHkZUK",
        "outputId": "5521b029-e6dc-42b8-a236-a8bd3c9994fd"
      },
      "outputs": [
        {
          "output_type": "stream",
          "name": "stdout",
          "text": [
            "WARNING:tensorflow:From <ipython-input-3-eb58e367ca65>:25: BasicLSTMCell.__init__ (from tensorflow.python.ops.rnn_cell_impl) is deprecated and will be removed in a future version.\n",
            "Instructions for updating:\n",
            "This class is equivalent as tf.keras.layers.LSTMCell, and will be replaced by that in Tensorflow 2.0.\n",
            "WARNING:tensorflow:From <ipython-input-3-eb58e367ca65>:26: MultiRNNCell.__init__ (from tensorflow.python.ops.rnn_cell_impl) is deprecated and will be removed in a future version.\n",
            "Instructions for updating:\n",
            "This class is equivalent as tf.keras.layers.StackedRNNCells, and will be replaced by that in Tensorflow 2.0.\n",
            "WARNING:tensorflow:From /tensorflow-1.15.2/python3.7/tensorflow_core/python/ops/rnn_cell_impl.py:735: Layer.add_variable (from tensorflow.python.keras.engine.base_layer) is deprecated and will be removed in a future version.\n",
            "Instructions for updating:\n",
            "Please use `layer.add_weight` method instead.\n",
            "WARNING:tensorflow:From /tensorflow-1.15.2/python3.7/tensorflow_core/python/ops/rnn_cell_impl.py:739: calling Zeros.__init__ (from tensorflow.python.ops.init_ops) with dtype is deprecated and will be removed in a future version.\n",
            "Instructions for updating:\n",
            "Call initializer instance with the dtype argument instead of passing it to the constructor\n",
            "WARNING:tensorflow:From /tensorflow-1.15.2/python3.7/tensorflow_core/python/ops/resource_variable_ops.py:1630: calling BaseResourceVariable.__init__ (from tensorflow.python.ops.resource_variable_ops) with constraint is deprecated and will be removed in a future version.\n",
            "Instructions for updating:\n",
            "If using Keras pass *_constraint arguments to layers.\n",
            "Model initialized\n",
            "Entered Dataloader\n",
            "10.0% data loaded.\n",
            "20.0% data loaded.\n",
            "30.0% data loaded.\n",
            "40.0% data loaded.\n",
            "50.0% data loaded.\n",
            "60.0% data loaded.\n",
            "70.0% data loaded.\n",
            "80.0% data loaded.\n",
            "90.0% data loaded.\n",
            "100.0% data loaded.\n",
            "Data loaded\n",
            "1st\t2nd\t3rd\t4th\t5th\t6th\t7th\t8th\t9th\t10th\tepoch\tloss\n",
            "22.5000\t21.2500\t16.2500\t21.5190\t17.9487\t19.7368\t17.6471\t16.6667\t23.5294\t16.6667\t0\t80.7429\n",
            "25.0000\t15.0000\t17.5000\t21.2500\t24.3590\t24.3243\t25.3521\t26.2295\t17.8571\t21.7391\t100\t80.6136\n",
            "20.0000\t25.0000\t18.7500\t18.9873\t19.7368\t22.5352\t19.1176\t27.1186\t16.3636\t16.2791\t200\t80.6157\n",
            "17.5000\t16.2500\t20.0000\t22.5000\t21.5190\t17.9487\t19.1781\t18.7500\t20.3704\t13.9535\t300\t80.5239\n",
            "17.5000\t31.2500\t25.0000\t18.7500\t12.5000\t20.7792\t22.9730\t16.9231\t20.3390\t16.6667\t400\t80.4166\n",
            "26.2500\t16.2500\t20.0000\t15.1899\t10.2564\t18.0556\t15.9420\t14.2857\t18.9655\t16.6667\t500\t80.5703\n",
            "21.2500\t18.7500\t27.5000\t18.7500\t21.2500\t19.2308\t19.7183\t17.1875\t18.8679\t20.0000\t600\t80.5131\n",
            "18.7500\t20.0000\t22.5000\t21.2500\t18.1818\t18.6667\t18.3099\t21.6667\t16.9811\t20.9302\t700\t80.5166\n",
            "17.5000\t20.0000\t17.5000\t15.0000\t19.2308\t16.8831\t19.4444\t18.7500\t26.4151\t35.0000\t800\t80.4325\n",
            "26.2500\t18.7500\t20.0000\t17.5000\t24.0506\t24.0000\t20.0000\t14.5161\t22.0000\t22.7273\t900\t80.4737\n",
            "18.7500\t25.0000\t22.5000\t22.5000\t25.3165\t19.4805\t17.8082\t15.6250\t21.0526\t13.3333\t1000\t80.4946\n",
            "23.7500\t20.0000\t23.7500\t13.7500\t25.6410\t24.6753\t20.5479\t15.1515\t26.3158\t26.5306\t1100\t80.4709\n",
            "17.5000\t21.2500\t22.5000\t20.0000\t18.9873\t12.1622\t15.7143\t16.6667\t20.3704\t6.9767\t1200\t80.6039\n",
            "18.7500\t17.5000\t17.5000\t17.7215\t12.8205\t23.3766\t14.4737\t18.3099\t17.5439\t17.7778\t1300\t80.4775\n",
            "21.2500\t16.2500\t16.2500\t17.5000\t16.2500\t16.8831\t26.0274\t13.0435\t17.5439\t27.6596\t1400\t80.4674\n",
            "21.2500\t18.7500\t23.7500\t23.7500\t20.2532\t23.3766\t23.2877\t14.0625\t19.5652\t27.5000\t1500\t80.4374\n",
            "23.7500\t20.0000\t15.0000\t21.2500\t22.5000\t18.6667\t18.5714\t19.0476\t21.5686\t30.9524\t1600\t80.4517\n",
            "23.7500\t18.7500\t20.0000\t17.5000\t12.6582\t18.9189\t25.3731\t17.7419\t23.2143\t21.7391\t1700\t80.4709\n",
            "25.0000\t11.2500\t20.0000\t16.2500\t15.1899\t22.6667\t21.9178\t25.7576\t20.6897\t12.1951\t1800\t80.5087\n",
            "21.2500\t21.2500\t15.1899\t18.9873\t22.7848\t19.7368\t24.0000\t14.9254\t20.3390\t17.3913\t1900\t80.4546\n",
            "17.5000\t22.5000\t20.0000\t17.5000\t18.7500\t15.3846\t20.0000\t22.7273\t12.5000\t9.0909\t2000\t80.5396\n",
            "16.2500\t18.7500\t21.2500\t26.2500\t22.5000\t15.1899\t20.2703\t18.7500\t14.0351\t13.3333\t2100\t80.5030\n",
            "30.0000\t25.0000\t22.5000\t20.0000\t22.5000\t21.7949\t19.4444\t23.1884\t14.0351\t17.0213\t2200\t80.4573\n",
            "12.5000\t18.7500\t16.4557\t17.7215\t22.7848\t17.1053\t18.3099\t23.4375\t24.0741\t24.4444\t2300\t80.5339\n",
            "16.2500\t16.2500\t17.5000\t17.7215\t20.5128\t17.1053\t18.0556\t22.7273\t22.8070\t15.0000\t2400\t80.4769\n",
            "25.0000\t20.0000\t15.0000\t21.5190\t20.2532\t17.1053\t25.6757\t13.8462\t14.8148\t12.1951\t2500\t80.4765\n",
            "25.0000\t13.7500\t8.7500\t22.5000\t20.0000\t21.7949\t18.9189\t18.1818\t17.8571\t20.0000\t2600\t80.5037\n",
            "18.7500\t21.2500\t22.5000\t17.5000\t19.4805\t22.9730\t25.0000\t19.0476\t19.2308\t19.0476\t2700\t80.4760\n",
            "17.5000\t17.5000\t16.2500\t18.7500\t21.5190\t25.9740\t22.9730\t21.8750\t12.9630\t22.2222\t2800\t80.5044\n",
            "18.7500\t22.5000\t20.0000\t18.7500\t21.2500\t25.3165\t20.2703\t19.6970\t26.3158\t23.8095\t2900\t80.4586\n",
            "20.0000\t12.5000\t16.2500\t17.5000\t18.9873\t14.4737\t18.0556\t21.3115\t20.0000\t23.0769\t3000\t80.4830\n",
            "18.7500\t17.5000\t18.7500\t21.2500\t20.2532\t18.1818\t15.9420\t20.8955\t14.2857\t15.2174\t3100\t80.4689\n",
            "21.2500\t18.7500\t17.5000\t21.2500\t22.7848\t23.3766\t17.5676\t16.6667\t18.6441\t19.5652\t3200\t80.4110\n",
            "17.5000\t17.5000\t17.5000\t18.9873\t17.7215\t16.6667\t25.9740\t24.0000\t11.8644\t6.2500\t3300\t80.4946\n",
            "16.2500\t20.0000\t16.2500\t13.7500\t20.0000\t16.0000\t17.3913\t21.2121\t20.3390\t19.5122\t3400\t80.4957\n",
            "21.2500\t18.7500\t21.2500\t17.7215\t17.7215\t21.7949\t22.5352\t20.3125\t20.7547\t22.7273\t3500\t80.4632\n",
            "23.7500\t26.2500\t22.5000\t18.7500\t17.5000\t18.9189\t22.2222\t15.1515\t28.8136\t18.6047\t3600\t80.4731\n",
            "18.7500\t18.7500\t22.5000\t20.0000\t22.0779\t25.0000\t14.8649\t23.4375\t23.3333\t26.0870\t3700\t80.4661\n",
            "20.0000\t17.5000\t20.0000\t22.5000\t23.0769\t21.0526\t20.8333\t11.1111\t21.8182\t13.3333\t3800\t80.4902\n",
            "22.5000\t22.5000\t22.5000\t21.5190\t23.3766\t21.3333\t22.8571\t25.0000\t21.1538\t11.9048\t3900\t80.4759\n",
            "16.2500\t15.0000\t17.5000\t15.0000\t20.0000\t18.6667\t15.4930\t13.8462\t18.5185\t12.5000\t4000\t80.5329\n",
            "21.2500\t22.5000\t13.7500\t25.0000\t26.5823\t18.4211\t20.2703\t25.0000\t23.6364\t20.9302\t4100\t80.4934\n",
            "22.5000\t25.0000\t26.2500\t22.5000\t22.7848\t18.4211\t16.6667\t15.8730\t22.0000\t27.9070\t4200\t80.4435\n",
            "17.5000\t28.7500\t20.0000\t18.7500\t16.2500\t18.1818\t20.8333\t14.5161\t26.3158\t17.0213\t4300\t80.5289\n",
            "21.2500\t27.5000\t17.5000\t20.0000\t27.8481\t17.8082\t13.8462\t21.3115\t18.5185\t23.2558\t4400\t80.4806\n",
            "21.2500\t21.2500\t18.7500\t22.5000\t21.2500\t21.7949\t17.1053\t18.7500\t19.2982\t22.2222\t4500\t80.4284\n",
            "20.0000\t20.0000\t20.0000\t22.5000\t25.0000\t18.1818\t13.8889\t22.5806\t35.2941\t30.4348\t4600\t80.4261\n",
            "17.5000\t20.0000\t18.7500\t20.0000\t17.5000\t17.9487\t18.9189\t23.0769\t18.8679\t23.2558\t4700\t80.4536\n",
            "20.0000\t20.0000\t20.0000\t20.0000\t16.6667\t21.6216\t22.8571\t25.0000\t25.4545\t29.7872\t4800\t80.5245\n",
            "17.5000\t21.2500\t20.2532\t21.5190\t13.9241\t17.9487\t15.4930\t15.1515\t17.5439\t16.6667\t4900\t80.5174\n",
            "15.0000\t21.2500\t18.7500\t18.7500\t17.5000\t20.0000\t14.2857\t13.8462\t8.6207\t19.1489\t5000\t80.4057\n",
            "23.7500\t25.0000\t17.5000\t21.2500\t17.7215\t17.1053\t18.8406\t22.0339\t17.6471\t13.5135\t5100\t80.5247\n",
            "21.2500\t17.5000\t20.0000\t13.9241\t15.5844\t17.5676\t12.5000\t18.4615\t17.8571\t16.6667\t5200\t80.4901\n",
            "21.2500\t22.5000\t23.7500\t21.5190\t19.4805\t20.5479\t26.4706\t9.3750\t25.0000\t21.7391\t5300\t80.3050\n",
            "20.0000\t20.0000\t23.7500\t21.5190\t28.2051\t27.6316\t21.1268\t18.1818\t28.5714\t22.7273\t5400\t80.3471\n",
            "26.2500\t20.0000\t20.0000\t24.0506\t18.9873\t24.3590\t18.9189\t20.8955\t29.4118\t30.2326\t5500\t80.3447\n",
            "25.0000\t22.5000\t18.7500\t13.9241\t16.4557\t15.5844\t14.2857\t13.1148\t17.3077\t22.7273\t5600\t80.4867\n",
            "12.5000\t26.2500\t15.0000\t18.7500\t19.2308\t18.9189\t23.1884\t22.5806\t18.1818\t24.4444\t5700\t80.5778\n",
            "22.5000\t18.7500\t13.7500\t20.0000\t18.7500\t21.2500\t20.5479\t19.4030\t21.4286\t17.3913\t5800\t80.5383\n",
            "18.7500\t25.0000\t22.5000\t23.7500\t29.1139\t23.0769\t28.3784\t18.7500\t25.9259\t26.1905\t5900\t80.0376\n",
            "27.5000\t18.7500\t22.5000\t23.7500\t22.7848\t15.3846\t21.6216\t17.8082\t15.0000\t25.5319\t6000\t80.0322\n",
            "31.2500\t26.2500\t25.0000\t25.0000\t32.5000\t26.5823\t29.7297\t18.1818\t25.9259\t20.0000\t6100\t77.8326\n",
            "18.7500\t26.2500\t30.0000\t30.0000\t25.0000\t23.0769\t31.0811\t31.3433\t29.0909\t31.7073\t6200\t75.3731\n",
            "21.2500\t21.2500\t30.0000\t23.7500\t35.4430\t33.7838\t31.5068\t36.3636\t39.6226\t37.7778\t6300\t73.2766\n",
            "26.2500\t26.2500\t32.5000\t29.4872\t24.6753\t29.7297\t38.5714\t40.6250\t20.3704\t29.7872\t6400\t74.6643\n",
            "30.0000\t22.5000\t34.1772\t34.1772\t33.3333\t38.9610\t42.2535\t30.3030\t48.2759\t43.4783\t6500\t69.9120\n",
            "28.7500\t27.5000\t38.7500\t41.2500\t35.8974\t44.7368\t40.8451\t33.3333\t38.4615\t38.2979\t6600\t68.0407\n",
            "26.2500\t18.7500\t32.5000\t36.2500\t40.5063\t36.3636\t34.7222\t46.8750\t28.0000\t33.3333\t6700\t69.6547\n",
            "25.0000\t23.7500\t40.0000\t36.7089\t32.0513\t38.9610\t33.3333\t41.5385\t37.2881\t41.6667\t6800\t69.6360\n",
            "22.5000\t35.0000\t40.0000\t36.7089\t48.1013\t37.3333\t42.0290\t41.5385\t45.4545\t28.5714\t6900\t65.8990\n",
            "20.0000\t31.2500\t35.0000\t38.7500\t46.7532\t43.2432\t49.2754\t53.8462\t46.5517\t52.3810\t7000\t66.6342\n",
            "17.5000\t33.7500\t37.5000\t37.9747\t34.6154\t36.8421\t38.5714\t31.3433\t37.2881\t52.2727\t7100\t67.9310\n",
            "28.7500\t35.0000\t41.2500\t38.7500\t38.7500\t31.6456\t28.0000\t40.5797\t45.4545\t42.8571\t7200\t66.9236\n",
            "8.7500\t21.2500\t38.7500\t37.5000\t41.7722\t41.7722\t41.8919\t41.9355\t32.7273\t28.5714\t7300\t68.9099\n",
            "18.7500\t32.5000\t38.7500\t48.7500\t41.5584\t37.8378\t47.2222\t42.6471\t37.5000\t52.1739\t7400\t63.5183\n",
            "27.5000\t41.2500\t33.7500\t44.3038\t36.7089\t44.0000\t44.9275\t44.6154\t37.5000\t46.6667\t7500\t66.6002\n",
            "18.7500\t33.7500\t41.2500\t41.7722\t42.3077\t45.9459\t39.7059\t41.9355\t48.1481\t52.0833\t7600\t64.0162\n",
            "21.2500\t32.5000\t37.5000\t37.5000\t41.0256\t50.0000\t32.3944\t37.8788\t40.7407\t40.0000\t7700\t66.3492\n",
            "12.5000\t37.5000\t41.2500\t55.0000\t50.0000\t43.7500\t48.7179\t47.0588\t43.8596\t45.2381\t7800\t63.1451\n",
            "22.5000\t22.5000\t30.0000\t42.5000\t37.5000\t36.8421\t57.9710\t38.7097\t41.5094\t39.0244\t7900\t66.1290\n",
            "16.2500\t32.5000\t46.2500\t45.0000\t48.1013\t48.0519\t39.1892\t43.9394\t45.6140\t40.8163\t8000\t62.0451\n",
            "21.2500\t37.5000\t35.0000\t42.5000\t57.5000\t44.3038\t41.8919\t54.5455\t32.0755\t47.6190\t8100\t63.4038\n",
            "20.0000\t36.2500\t42.5000\t46.2500\t50.6329\t46.7532\t39.7260\t42.6471\t51.6667\t41.3043\t8200\t63.7087\n",
            "22.5000\t43.7500\t47.5000\t53.1646\t44.8718\t55.8442\t45.0704\t42.6471\t41.8182\t34.0426\t8300\t62.0678\n",
            "23.7500\t33.7500\t40.5063\t45.5696\t51.8987\t43.4211\t41.0959\t46.6667\t36.5385\t46.6667\t8400\t63.1246\n",
            "21.2500\t35.0000\t37.5000\t53.7500\t40.0000\t60.5263\t45.5882\t48.2143\t47.0588\t50.0000\t8500\t60.7729\n",
            "13.7500\t28.7500\t42.5000\t48.7500\t44.8718\t44.1558\t37.6812\t39.6825\t50.0000\t54.7619\t8600\t62.2331\n",
            "17.5000\t38.7500\t38.7500\t45.0000\t55.1282\t40.0000\t49.3333\t42.1875\t55.1724\t61.7021\t8700\t64.4047\n",
            "21.2500\t40.0000\t41.2500\t42.5000\t55.8442\t40.2597\t56.9444\t46.8750\t37.9310\t47.8261\t8800\t62.1041\n",
            "23.7500\t32.5000\t45.5696\t49.3671\t51.8987\t52.0548\t53.5211\t53.1250\t33.9623\t45.4545\t8900\t62.0518\n",
            "21.2500\t38.7500\t48.7500\t52.5641\t51.2821\t56.5789\t48.6111\t50.0000\t51.8519\t70.2128\t9000\t59.9238\n",
            "20.0000\t38.7500\t52.5000\t48.7500\t53.8462\t55.2632\t51.5152\t56.4516\t55.7692\t46.6667\t9100\t58.8119\n",
            "17.5000\t48.7500\t55.0000\t51.2500\t61.2500\t64.0000\t53.5211\t53.8462\t64.8148\t53.4884\t9200\t55.2960\n",
            "25.0000\t42.5000\t42.5000\t49.3671\t51.2821\t46.5753\t45.0704\t53.1250\t57.6271\t48.9362\t9300\t59.5727\n",
            "15.0000\t36.2500\t38.7500\t56.2500\t49.3671\t51.3514\t58.5714\t55.5556\t59.2593\t52.1739\t9400\t61.8076\n",
            "25.0000\t43.7500\t51.2500\t53.7500\t50.0000\t56.0000\t54.1667\t57.3529\t66.1290\t60.4651\t9500\t56.2605\n",
            "13.7500\t40.0000\t52.5000\t67.5000\t53.9474\t57.5342\t55.8824\t62.2951\t62.2642\t55.0000\t9600\t56.3533\n",
            "17.5000\t42.5000\t51.2500\t53.7500\t61.2500\t67.5000\t61.6438\t58.7302\t66.6667\t56.8182\t9700\t53.7962\n",
            "22.5000\t41.2500\t53.7500\t57.5000\t60.2564\t53.3333\t60.8108\t58.8235\t52.7273\t59.5238\t9800\t54.7872\n",
            "11.2500\t42.5000\t56.2500\t48.7500\t51.8987\t51.2821\t59.4595\t59.4203\t62.0690\t50.0000\t9900\t57.0764\n"
          ]
        }
      ],
      "source": [
        "restore_training = False\n",
        "label_type = \"one_hot\"\n",
        "n_classes = 5\n",
        "seq_length = 50\n",
        "augment = True\n",
        "read_head_num = 4\n",
        "batch_size = 16\n",
        "num_epochs = 10000\n",
        "learning_rate = 1e-3\n",
        "rnn_size = 200\n",
        "image_width = 20\n",
        "image_height = 20\n",
        "rnn_num_layers = 1\n",
        "num_memory_slots = 128\n",
        "memory_vector_dim = 40\n",
        "shift_range = 1\n",
        "write_head_num = 4\n",
        "test_batch_num = 100\n",
        "n_train_classes = 220\n",
        "n_test_classes = 60\n",
        "save_dir = './save/one_shot_learning'\n",
        "tensorboard_dir = './summary/one_shot_learning'\n",
        "model_path = 'LSTM'\n",
        "train(learning_rate, image_width, image_height, n_train_classes, n_test_classes, restore_training, num_epochs, n_classes, batch_size, seq_length, num_memory_slots, augment, save_dir, model_path, tensorboard_dir)\n"
      ]
    },
    {
      "cell_type": "code",
      "execution_count": null,
      "metadata": {
        "id": "UfpafHVxXnWa"
      },
      "outputs": [],
      "source": [
        ""
      ]
    }
  ],
  "metadata": {
    "colab": {
      "collapsed_sections": [],
      "name": "Tsai_ChengYang_part_1.ipynb",
      "provenance": [],
      "toc_visible": true
    },
    "kernelspec": {
      "display_name": "Python 3",
      "name": "python3"
    }
  },
  "nbformat": 4,
  "nbformat_minor": 0
}